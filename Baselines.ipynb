{
 "cells": [
  {
   "cell_type": "code",
   "execution_count": 1,
   "id": "4788109e-6319-4054-b01c-73531930c54e",
   "metadata": {},
   "outputs": [],
   "source": [
    "import torch\n",
    "import torch.nn as nn\n",
    "import numpy as np\n",
    "import torch.utils.data as t_data"
   ]
  },
  {
   "cell_type": "code",
   "execution_count": 5,
   "id": "12888b9b-c4f5-4484-bbdf-055238e3a8c3",
   "metadata": {},
   "outputs": [],
   "source": [
    "from utils import WeatherDatasetSimple\n",
    "from models import InterpolationModel, SRCNN\n",
    "from model_eval import eval_model_single_frame, eval_results"
   ]
  },
  {
   "cell_type": "code",
   "execution_count": 3,
   "id": "b1159d0e-a27f-4490-a76b-cd4e21c83485",
   "metadata": {},
   "outputs": [],
   "source": [
    "device = 'cuda'"
   ]
  },
  {
   "cell_type": "code",
   "execution_count": 5,
   "id": "f922c24a-ba1e-41b3-afc4-6cb4c51d5a83",
   "metadata": {},
   "outputs": [],
   "source": [
    "train_dataset = WeatherDatasetSimple('data/train_T2_V10_U10_d02_new_lr_npy', 'data/train_T2_V10_U10_d02_new_hr_npy', normalization=False,)\n",
    "valid_dataset = WeatherDatasetSimple('data/true_val_T2_V10_U10_d02_new_lr_npy', 'data/true_val_T2_V10_U10_d02_new_hr_npy', normalization=False,)\n",
    "test_dataset = WeatherDatasetSimple('data/val_T2_V10_U10_d02_new_lr', 'data/val_T2_V10_U10_d02_new_hr', normalization=False,)"
   ]
  },
  {
   "cell_type": "code",
   "execution_count": 6,
   "id": "704cde85-6db9-468f-ae94-417efba19df5",
   "metadata": {},
   "outputs": [],
   "source": [
    "batch_size = 72\n",
    "train_dataloader = t_data.DataLoader(train_dataset, batch_size=batch_size, shuffle=True)\n",
    "valid_dataloader = t_data.DataLoader(valid_dataset, batch_size=1, shuffle=True)\n",
    "test_dataloader = t_data.DataLoader(test_dataset, batch_size=1, shuffle=True)"
   ]
  },
  {
   "cell_type": "code",
   "execution_count": 6,
   "id": "2149180c-dd4d-4263-af31-97b54aec8c43",
   "metadata": {},
   "outputs": [
    {
     "name": "stdout",
     "output_type": "stream",
     "text": [
      "High Res data : mean  [0.6636226  0.5109665  0.50087802]  std:  [0.11283001 0.06067654 0.06711711]\n",
      " Low Res data : mean  [0.66322656 0.51177405 0.50098086]  std:  [0.11245459 0.06100276 0.06742526]\n"
     ]
    }
   ],
   "source": [
    "mns_lr, mns_hr = [], []\n",
    "for x in train_dataset:\n",
    "    mns_lr.append( np.mean(x[0], axis=(1,2)) )\n",
    "    mns_hr.append( np.mean(x[1], axis=(1,2)) )\n",
    "\n",
    "print(\"High Res data : mean \", np.mean(mns_hr, 0), ' std: ', np.std(mns_hr, 0) )\n",
    "print(\" Low Res data : mean \", np.mean(mns_lr, 0), ' std: ', np.std(mns_lr, 0) )"
   ]
  },
  {
   "cell_type": "markdown",
   "id": "0c0469a5-4656-44d8-9a44-08df42206760",
   "metadata": {},
   "source": [
    "Data at different channels have pretty similar distributions and is contained within [0; 1], so we decided not to standartidize it."
   ]
  },
  {
   "cell_type": "markdown",
   "id": "fbd7df69-8bd8-4411-8a7d-64e0aa146d86",
   "metadata": {
    "tags": []
   },
   "source": [
    "## Bicubic Interpolation"
   ]
  },
  {
   "cell_type": "code",
   "execution_count": 29,
   "id": "adc90c95-b1f7-46c3-950f-c6fa1dfdd9a2",
   "metadata": {},
   "outputs": [],
   "source": [
    "i_model = InterpolationModel().to(device)"
   ]
  },
  {
   "cell_type": "code",
   "execution_count": 30,
   "id": "4fa84d3b-6255-4fb2-8023-d70744690cdb",
   "metadata": {},
   "outputs": [
    {
     "name": "stdout",
     "output_type": "stream",
     "text": [
      "Interpolation model results: \n",
      "MSE:   0.0002186244701581322\n",
      "MAE:   0.009801893723107144\n",
      "PSNR:  29.82986338738031\n"
     ]
    }
   ],
   "source": [
    "result = eval_model_single_frame(i_model, test_dataloader, device=device)\n",
    "print(\"Interpolation model results: \")\n",
    "print(\"MSE:  \", result['mse'])\n",
    "print(\"MAE:  \", result['mae'])\n",
    "print(\"PSNR: \", result['psnr'])"
   ]
  },
  {
   "cell_type": "markdown",
   "id": "92226023-9ea9-46c7-85e9-b14823cd1513",
   "metadata": {
    "jp-MarkdownHeadingCollapsed": true,
    "tags": []
   },
   "source": [
    "## SRCNN"
   ]
  },
  {
   "cell_type": "code",
   "execution_count": 6,
   "id": "b2386614-1145-4bb7-a632-a1368a8cd946",
   "metadata": {},
   "outputs": [],
   "source": [
    "import os\n",
    "import copy\n",
    "from tqdm import tqdm"
   ]
  },
  {
   "cell_type": "code",
   "execution_count": 7,
   "id": "47bb621c-b847-4a75-bc98-ef1c718fcb6d",
   "metadata": {},
   "outputs": [],
   "source": [
    "srcnn_model = SRCNN(num_channels=3).to(device)"
   ]
  },
  {
   "cell_type": "code",
   "execution_count": 15,
   "id": "5ead74f0-528a-40ce-84a2-8c6badad19c1",
   "metadata": {},
   "outputs": [],
   "source": [
    "lr = 1e-4\n",
    "num_epochs = 200\n",
    "criterion = nn.MSELoss()\n",
    "optimizer = torch.optim.Adam([\n",
    "    {'params': srcnn_model.conv1.parameters()},\n",
    "    {'params': srcnn_model.conv2.parameters()},\n",
    "    {'params': srcnn_model.conv3.parameters(), 'lr': 0.1 * lr}\n",
    "], lr=lr)\n",
    "outputs_dir = 'Models/Baselines/TRAIN'"
   ]
  },
  {
   "cell_type": "code",
   "execution_count": 9,
   "id": "2825a673-d461-4527-ae1b-bb0f6052097d",
   "metadata": {},
   "outputs": [],
   "source": [
    "best_weights = copy.deepcopy(srcnn_model.state_dict())\n",
    "best_epoch = 0\n",
    "best_psnr = 0.0"
   ]
  },
  {
   "cell_type": "code",
   "execution_count": null,
   "id": "ff7c80aa-9f1a-4810-ae80-8925f91784c5",
   "metadata": {},
   "outputs": [],
   "source": [
    "for epoch in range(30, num_epochs):\n",
    "    srcnn_model.train()\n",
    "\n",
    "    with tqdm(total=(len(train_dataset) - len(train_dataset) % batch_size)) as t:\n",
    "        t.set_description('epoch: {}/{}'.format(epoch, num_epochs - 1))\n",
    "        cur_loss = 0.0\n",
    "        for lr, hr in train_dataloader:\n",
    "            lr = lr.to(device)\n",
    "            hr = hr.to(device)\n",
    "\n",
    "            hr_pred = srcnn_model(lr)\n",
    "\n",
    "            loss = criterion(hr_pred, hr)\n",
    "            optimizer.zero_grad()\n",
    "            cur_loss += loss.item()  / (len(train_dataset) // batch_size)\n",
    "            \n",
    "            loss.backward()\n",
    "            optimizer.step()\n",
    "\n",
    "            t.set_postfix(loss='{:.6f}'.format(cur_loss))\n",
    "            t.update(len(lr))\n",
    "\n",
    "        #torch.save(model.state_dict(), os.path.join(outputs_dir, 'epoch_{}.pth'.format(epoch)))\n",
    "        srcnn_model.eval()\n",
    "        epoch_result = eval_model_single_frame(srcnn_model, valid_dataloader,  device=device)\n",
    "        print('Epoch ', epoch, ' train MSE loss ', cur_loss, 'eval psnr: {:.2f}'.format(epoch_result['psnr']))\n",
    "\n",
    "        if epoch_result['psnr'] > best_psnr:\n",
    "            best_epoch = epoch\n",
    "            best_psnr = epoch_result['psnr']\n",
    "            best_weights = copy.deepcopy(srcnn_model.state_dict())\n",
    "\n",
    "print('best epoch: {}, psnr: {:.2f}'.format(best_epoch, best_psnr))\n",
    "torch.save(best_weights, os.path.join(outputs_dir, 'SRCNN_best.pth'))"
   ]
  },
  {
   "cell_type": "raw",
   "id": "3d6c7e7a-9e35-4dc2-8ce6-74bbd644c5ab",
   "metadata": {},
   "source": [
    "Load model:"
   ]
  },
  {
   "cell_type": "code",
   "execution_count": 26,
   "id": "df9d7aa9-dead-48ed-8828-1f9cf8c17382",
   "metadata": {},
   "outputs": [
    {
     "data": {
      "text/plain": [
       "SRCNN(\n",
       "  (conv1): Conv2d(3, 64, kernel_size=(9, 9), stride=(1, 1), padding=(4, 4))\n",
       "  (conv2): Conv2d(64, 32, kernel_size=(5, 5), stride=(1, 1), padding=(2, 2))\n",
       "  (conv3): Conv2d(32, 3, kernel_size=(5, 5), stride=(1, 1), padding=(2, 2))\n",
       "  (relu): ReLU(inplace=True)\n",
       ")"
      ]
     },
     "execution_count": 26,
     "metadata": {},
     "output_type": "execute_result"
    }
   ],
   "source": [
    "srcnn_model = SRCNN(num_channels=3).to(device)\n",
    "srcnn_model.load_state_dict(torch.load('Models/Baselines/TRAIN/SRCNN_best.pth'))\n",
    "srcnn_model.eval()"
   ]
  },
  {
   "cell_type": "raw",
   "id": "0c7e35d1-808d-44e0-b990-28c72913d1f0",
   "metadata": {},
   "source": [
    "Evaluate model:"
   ]
  },
  {
   "cell_type": "code",
   "execution_count": 27,
   "id": "982962d1-5299-4995-bda5-982ca8114857",
   "metadata": {
    "tags": []
   },
   "outputs": [
    {
     "name": "stdout",
     "output_type": "stream",
     "text": [
      "SRCNN model best results: \n",
      "MSE:   0.00019476998141337054\n",
      "MAE:   0.009489991709880274\n",
      "PSNR:  30.034115645288075\n"
     ]
    }
   ],
   "source": [
    "result = eval_model_single_frame(srcnn_model, test_dataloader, device=device)\n",
    "print(\"SRCNN model best results: \")\n",
    "print(\"MSE:  \", result['mse'])\n",
    "print(\"MAE:  \", result['mae'])\n",
    "print(\"PSNR: \", result['psnr'])"
   ]
  },
  {
   "cell_type": "markdown",
   "id": "f7cb266b-3fb9-4c77-871a-3597ee290fe7",
   "metadata": {},
   "source": [
    "## SRFBN"
   ]
  },
  {
   "cell_type": "raw",
   "id": "c0174c1b-8cd8-4810-9c00-7426e43fbc21",
   "metadata": {},
   "source": [
    "We used pretrained model. We implemented it to our data in full accordance to SRFBNs authors ( https://github.com/Paper99/SRFBN_CVPR19 ). Here we will evaluate results"
   ]
  },
  {
   "cell_type": "code",
   "execution_count": 8,
   "id": "48c07cf3-d03c-4488-8faf-e3cf9214102b",
   "metadata": {},
   "outputs": [
    {
     "name": "stdout",
     "output_type": "stream",
     "text": [
      "Interpolation model results: \n",
      "MSE:   0.00022177140316468976\n",
      "MAE:   0.009790236856362954\n",
      "PSNR:  29.71257377434382\n"
     ]
    }
   ],
   "source": [
    "test_dataset = WeatherDatasetSimple('data/val_T2_V10_U10_d02_new_hr', 'Baseline_predicts/SRFBN')\n",
    "check_dataloader = t_data.DataLoader(test_dataset, batch_size=1, shuffle=False)\n",
    "\n",
    "result = eval_results(check_dataloader)\n",
    "print(\"Interpolation model results: \")\n",
    "print(\"MSE:  \", result['mse'])\n",
    "print(\"MAE:  \", result['mae'])\n",
    "print(\"PSNR: \", result['psnr'])"
   ]
  },
  {
   "cell_type": "markdown",
   "id": "c5132394-7e65-4d4f-909c-8fdb4b44d72f",
   "metadata": {},
   "source": [
    "## ESRGAN "
   ]
  },
  {
   "cell_type": "raw",
   "id": "d8d7bfea-99db-4141-9eb6-bf4ebb256066",
   "metadata": {},
   "source": [
    "We used pretrained model. We fine-tuned it tp our data in full accordance to authors recomendations"
   ]
  },
  {
   "cell_type": "code",
   "execution_count": 10,
   "id": "c32a9549-2691-4372-bac7-0a63fe456f14",
   "metadata": {},
   "outputs": [
    {
     "name": "stdout",
     "output_type": "stream",
     "text": [
      "Interpolation model results: \n",
      "MSE:   0.0013496031888309233\n",
      "MAE:   0.02381261536051019\n",
      "PSNR:  23.814576119438854\n"
     ]
    }
   ],
   "source": [
    "test_dataset = WeatherDatasetSimple('data/val_T2_V10_U10_d02_new_hr', 'Baseline_predicts/ESRGAN')\n",
    "check_dataloader = t_data.DataLoader(test_dataset, batch_size=1, shuffle=False)\n",
    "\n",
    "result = eval_results(check_dataloader)\n",
    "print(\"Interpolation model results: \")\n",
    "print(\"MSE:  \", result['mse'])\n",
    "print(\"MAE:  \", result['mae'])\n",
    "print(\"PSNR: \", result['psnr'])"
   ]
  },
  {
   "cell_type": "code",
   "execution_count": null,
   "id": "1dd745e0-1306-4030-b4bc-ce907aae476a",
   "metadata": {},
   "outputs": [],
   "source": []
  }
 ],
 "metadata": {
  "kernelspec": {
   "display_name": "Python 3 (ipykernel)",
   "language": "python",
   "name": "python3"
  },
  "language_info": {
   "codemirror_mode": {
    "name": "ipython",
    "version": 3
   },
   "file_extension": ".py",
   "mimetype": "text/x-python",
   "name": "python",
   "nbconvert_exporter": "python",
   "pygments_lexer": "ipython3",
   "version": "3.9.7"
  }
 },
 "nbformat": 4,
 "nbformat_minor": 5
}
