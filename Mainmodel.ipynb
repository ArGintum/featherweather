{
 "cells": [
  {
   "cell_type": "code",
   "execution_count": 1,
   "id": "2bfedd6b-0c6d-4d3e-bd48-1ee2d86bd863",
   "metadata": {},
   "outputs": [],
   "source": [
    "import os\n",
    "import copy\n",
    "from tqdm import tqdm\n",
    "\n",
    "import torch\n",
    "import torch.nn as nn\n",
    "import numpy as np\n",
    "import torch.utils.data as t_data\n",
    "from utils import WeatherDatasetSimple\n",
    "from models import FeatherNET_base, FeatherNET_contextualized, gradient_loss, spectral_loss\n",
    "from model_eval import eval_model_single_frame, eval_results, eval_model_multiframe\n",
    "\n",
    "device = 'cuda:0' if torch.cuda.is_available() else 'cpu'"
   ]
  },
  {
   "cell_type": "code",
   "execution_count": 2,
   "id": "ce8ffa08-7330-419f-b800-c234d26421ee",
   "metadata": {},
   "outputs": [],
   "source": [
    "train_dataset = WeatherDatasetSimple('data/wind/LR_train', 'data/wind/HR_train',  max_dataset_size=8448)\n",
    "valid_dataset = WeatherDatasetSimple('data/wind/LR_val', 'data/wind/HR_val', max_dataset_size=1024)\n",
    "test_dataset = WeatherDatasetSimple('data/wind/LR_test', 'data/wind/HR_test', max_dataset_size=1024)"
   ]
  },
  {
   "cell_type": "code",
   "execution_count": 3,
   "id": "38e2a9e2-424d-4108-916d-8aaf69d88c59",
   "metadata": {},
   "outputs": [],
   "source": [
    "batch_size = 16\n",
    "train_dataloader = t_data.DataLoader(train_dataset, batch_size=batch_size, shuffle=False)\n",
    "valid_dataloader = t_data.DataLoader(valid_dataset, batch_size=batch_size, shuffle=False)\n",
    "test_dataloader = t_data.DataLoader(test_dataset, batch_size=batch_size, shuffle=False)"
   ]
  },
  {
   "cell_type": "code",
   "execution_count": 4,
   "id": "bfb21d17-da16-4408-b82c-42a0bd9c3625",
   "metadata": {},
   "outputs": [],
   "source": [
    "feather_contextualized_model = FeatherNET_contextualized(memory_length=4).to(device) ## Remember 4 - 1 = 3 previous states"
   ]
  },
  {
   "cell_type": "code",
   "execution_count": 5,
   "id": "8a889bc8-2816-4a83-94e3-5ecff7b31e28",
   "metadata": {},
   "outputs": [],
   "source": [
    "learning_rate = 1e-4\n",
    "num_epochs = 200\n",
    "criterion = gradient_loss ## Insert loss function here\n",
    "optimizer = torch.optim.Adam(feather_contextualized_model.parameters(), lr=learning_rate )\n",
    "outputs_dir = 'Models/FeatherNET/complete_(phase4)' # Folder for temporal output"
   ]
  },
  {
   "cell_type": "code",
   "execution_count": 6,
   "id": "bb6b04de-202f-4b8c-a3a6-fdc2f0ef684f",
   "metadata": {},
   "outputs": [],
   "source": [
    "def train__multiframe_model(model, optimizer, num_epochs, criterion, loss_history, outputs_dir, memory_length=4):\n",
    "    best_weights = copy.deepcopy(model.state_dict())\n",
    "    best_epoch = 0\n",
    "    best_psnr = 0.0\n",
    "    for epoch in range(0, num_epochs):\n",
    "        model.train()\n",
    "\n",
    "        with tqdm(total=(len(train_dataset) - len(train_dataset) % batch_size)) as t:\n",
    "            t.set_description('epoch: {}/{}'.format(epoch, num_epochs - 1))\n",
    "            cur_loss = 0.0\n",
    "            for lr, hr in train_dataloader:\n",
    "                optimizer.zero_grad()\n",
    "                lr = lr.to(device)\n",
    "                hr = hr.to(device)\n",
    "\n",
    "                hr_pred = model(lr)\n",
    "                loss = 0.0\n",
    "             #   for time_stamp in range(memory_length):\n",
    "                time_stamp = memory_length - 1\n",
    "                loss = criterion(hr_pred[time_stamp], hr[time_stamp : len(hr) - memory_length + 1 + time_stamp ]) \n",
    "                cur_loss += loss.item()  / (len(train_dataset) // batch_size)\n",
    "\n",
    "                loss.backward()\n",
    "                nn.utils.clip_grad_norm_(model.parameters(), 1000.0)\n",
    "                optimizer.step()\n",
    "\n",
    "                t.set_postfix(loss='{:.6f}'.format(cur_loss))\n",
    "                t.update(len(lr))\n",
    "\n",
    "            torch.save(model.state_dict(), os.path.join(outputs_dir, 'FeatherNET_base_epoch_{}.pth'.format(epoch)))\n",
    "            model.eval()\n",
    "            epoch_result = eval_model_multiframe(model, valid_dataloader,  device=device)\n",
    "            t.set_postfix({'train loss ': '{:.8f}'.format(cur_loss), 'evalPSNR' : epoch_result['psnr'], 'MAE' : epoch_result['mae']*255.0, 'MSE' : epoch_result['mse']*255.0*255.0, } )\n",
    "            loss_history.append(epoch_result['psnr'])\n",
    "\n",
    "            if epoch_result['psnr'] > best_psnr:\n",
    "                best_epoch = epoch\n",
    "                best_psnr = epoch_result['psnr']\n",
    "                best_weights = copy.deepcopy(model.state_dict())\n",
    "\n",
    "    print('best epoch: {}, psnr: {:.2f}'.format(best_epoch, best_psnr))\n",
    "    torch.save(best_weights, os.path.join(outputs_dir, 'FeatherNET_base_best.pth'))"
   ]
  },
  {
   "cell_type": "code",
   "execution_count": 7,
   "id": "48ef42ad-2453-4f32-ab72-ec8366e6b62b",
   "metadata": {},
   "outputs": [
    {
     "name": "stderr",
     "output_type": "stream",
     "text": [
      "epoch: 0/59:   0%|                                                    | 16/8448 [00:03<26:59,  5.21it/s, loss=0.006222]\n"
     ]
    },
    {
     "ename": "RuntimeError",
     "evalue": "CUDA out of memory. Tried to allocate 32.00 MiB (GPU 0; 4.00 GiB total capacity; 1.69 GiB already allocated; 0 bytes free; 1.74 GiB reserved in total by PyTorch) If reserved memory is >> allocated memory try setting max_split_size_mb to avoid fragmentation.  See documentation for Memory Management and PYTORCH_CUDA_ALLOC_CONF",
     "output_type": "error",
     "traceback": [
      "\u001b[1;31m---------------------------------------------------------------------------\u001b[0m",
      "\u001b[1;31mRuntimeError\u001b[0m                              Traceback (most recent call last)",
      "\u001b[1;32mC:\\Users\\9D20~1\\AppData\\Local\\Temp/ipykernel_7652/768227434.py\u001b[0m in \u001b[0;36m<module>\u001b[1;34m\u001b[0m\n\u001b[0;32m      1\u001b[0m \u001b[0mloss_history\u001b[0m \u001b[1;33m=\u001b[0m \u001b[1;33m[\u001b[0m\u001b[1;33m]\u001b[0m\u001b[1;33m\u001b[0m\u001b[1;33m\u001b[0m\u001b[0m\n\u001b[1;32m----> 2\u001b[1;33m \u001b[0mtrain__multiframe_model\u001b[0m\u001b[1;33m(\u001b[0m\u001b[0mfeather_contextualized_model\u001b[0m\u001b[1;33m,\u001b[0m \u001b[0moptimizer\u001b[0m\u001b[1;33m,\u001b[0m \u001b[1;36m60\u001b[0m\u001b[1;33m,\u001b[0m \u001b[0mgradient_loss\u001b[0m\u001b[1;33m,\u001b[0m \u001b[0mloss_history\u001b[0m\u001b[1;33m,\u001b[0m \u001b[0moutputs_dir\u001b[0m\u001b[1;33m)\u001b[0m\u001b[1;33m\u001b[0m\u001b[1;33m\u001b[0m\u001b[0m\n\u001b[0m",
      "\u001b[1;32mC:\\Users\\9D20~1\\AppData\\Local\\Temp/ipykernel_7652/846194784.py\u001b[0m in \u001b[0;36mtrain__multiframe_model\u001b[1;34m(model, optimizer, num_epochs, criterion, loss_history, outputs_dir, memory_length)\u001b[0m\n\u001b[0;32m     14\u001b[0m                 \u001b[0mhr\u001b[0m \u001b[1;33m=\u001b[0m \u001b[0mhr\u001b[0m\u001b[1;33m.\u001b[0m\u001b[0mto\u001b[0m\u001b[1;33m(\u001b[0m\u001b[0mdevice\u001b[0m\u001b[1;33m)\u001b[0m\u001b[1;33m\u001b[0m\u001b[1;33m\u001b[0m\u001b[0m\n\u001b[0;32m     15\u001b[0m \u001b[1;33m\u001b[0m\u001b[0m\n\u001b[1;32m---> 16\u001b[1;33m                 \u001b[0mhr_pred\u001b[0m \u001b[1;33m=\u001b[0m \u001b[0mmodel\u001b[0m\u001b[1;33m(\u001b[0m\u001b[0mlr\u001b[0m\u001b[1;33m)\u001b[0m\u001b[1;33m\u001b[0m\u001b[1;33m\u001b[0m\u001b[0m\n\u001b[0m\u001b[0;32m     17\u001b[0m                 \u001b[0mloss\u001b[0m \u001b[1;33m=\u001b[0m \u001b[1;36m0.0\u001b[0m\u001b[1;33m\u001b[0m\u001b[1;33m\u001b[0m\u001b[0m\n\u001b[0;32m     18\u001b[0m                 \u001b[1;32mfor\u001b[0m \u001b[0mtime_stamp\u001b[0m \u001b[1;32min\u001b[0m \u001b[0mrange\u001b[0m\u001b[1;33m(\u001b[0m\u001b[0mmemory_length\u001b[0m\u001b[1;33m)\u001b[0m\u001b[1;33m:\u001b[0m\u001b[1;33m\u001b[0m\u001b[1;33m\u001b[0m\u001b[0m\n",
      "\u001b[1;32m~\\AppData\\Local\\Programs\\Python\\Python39\\lib\\site-packages\\torch\\nn\\modules\\module.py\u001b[0m in \u001b[0;36m_call_impl\u001b[1;34m(self, *input, **kwargs)\u001b[0m\n\u001b[0;32m   1100\u001b[0m         if not (self._backward_hooks or self._forward_hooks or self._forward_pre_hooks or _global_backward_hooks\n\u001b[0;32m   1101\u001b[0m                 or _global_forward_hooks or _global_forward_pre_hooks):\n\u001b[1;32m-> 1102\u001b[1;33m             \u001b[1;32mreturn\u001b[0m \u001b[0mforward_call\u001b[0m\u001b[1;33m(\u001b[0m\u001b[1;33m*\u001b[0m\u001b[0minput\u001b[0m\u001b[1;33m,\u001b[0m \u001b[1;33m**\u001b[0m\u001b[0mkwargs\u001b[0m\u001b[1;33m)\u001b[0m\u001b[1;33m\u001b[0m\u001b[1;33m\u001b[0m\u001b[0m\n\u001b[0m\u001b[0;32m   1103\u001b[0m         \u001b[1;31m# Do not call functions when jit is used\u001b[0m\u001b[1;33m\u001b[0m\u001b[1;33m\u001b[0m\u001b[0m\n\u001b[0;32m   1104\u001b[0m         \u001b[0mfull_backward_hooks\u001b[0m\u001b[1;33m,\u001b[0m \u001b[0mnon_full_backward_hooks\u001b[0m \u001b[1;33m=\u001b[0m \u001b[1;33m[\u001b[0m\u001b[1;33m]\u001b[0m\u001b[1;33m,\u001b[0m \u001b[1;33m[\u001b[0m\u001b[1;33m]\u001b[0m\u001b[1;33m\u001b[0m\u001b[1;33m\u001b[0m\u001b[0m\n",
      "\u001b[1;32mD:\\Weather_project\\models.py\u001b[0m in \u001b[0;36mforward\u001b[1;34m(self, x)\u001b[0m\n\u001b[0;32m    208\u001b[0m             \u001b[0mh\u001b[0m \u001b[1;33m=\u001b[0m \u001b[0mtorch\u001b[0m\u001b[1;33m.\u001b[0m\u001b[0mmoveaxis\u001b[0m\u001b[1;33m(\u001b[0m\u001b[0mh\u001b[0m\u001b[1;33m,\u001b[0m \u001b[1;33m(\u001b[0m\u001b[1;36m1\u001b[0m\u001b[1;33m,\u001b[0m \u001b[1;36m2\u001b[0m\u001b[1;33m,\u001b[0m \u001b[1;36m3\u001b[0m\u001b[1;33m)\u001b[0m\u001b[1;33m,\u001b[0m \u001b[1;33m(\u001b[0m\u001b[1;36m3\u001b[0m\u001b[1;33m,\u001b[0m \u001b[1;36m1\u001b[0m\u001b[1;33m,\u001b[0m \u001b[1;36m2\u001b[0m\u001b[1;33m)\u001b[0m\u001b[1;33m)\u001b[0m\u001b[1;33m\u001b[0m\u001b[1;33m\u001b[0m\u001b[0m\n\u001b[0;32m    209\u001b[0m             \u001b[0mh\u001b[0m \u001b[1;33m=\u001b[0m \u001b[0mtorch\u001b[0m\u001b[1;33m.\u001b[0m\u001b[0mcat\u001b[0m\u001b[1;33m(\u001b[0m\u001b[1;33m[\u001b[0m\u001b[0mh\u001b[0m\u001b[1;33m,\u001b[0m \u001b[0mcoords\u001b[0m\u001b[1;33m]\u001b[0m\u001b[1;33m,\u001b[0m \u001b[0mdim\u001b[0m\u001b[1;33m=\u001b[0m\u001b[1;33m-\u001b[0m\u001b[1;36m1\u001b[0m\u001b[1;33m)\u001b[0m\u001b[1;33m\u001b[0m\u001b[1;33m\u001b[0m\u001b[0m\n\u001b[1;32m--> 210\u001b[1;33m             \u001b[0mx_tmp\u001b[0m \u001b[1;33m=\u001b[0m \u001b[0mself\u001b[0m\u001b[1;33m.\u001b[0m\u001b[0mfc_1\u001b[0m\u001b[1;33m(\u001b[0m\u001b[0mh\u001b[0m\u001b[1;33m)\u001b[0m\u001b[1;33m\u001b[0m\u001b[1;33m\u001b[0m\u001b[0m\n\u001b[0m\u001b[0;32m    211\u001b[0m             \u001b[0mx_tmp\u001b[0m \u001b[1;33m=\u001b[0m \u001b[0mself\u001b[0m\u001b[1;33m.\u001b[0m\u001b[0mactiv\u001b[0m\u001b[1;33m(\u001b[0m\u001b[0mx_tmp\u001b[0m\u001b[1;33m)\u001b[0m\u001b[1;33m\u001b[0m\u001b[1;33m\u001b[0m\u001b[0m\n\u001b[0;32m    212\u001b[0m             \u001b[1;32mfor\u001b[0m \u001b[0mfc_layer\u001b[0m \u001b[1;32min\u001b[0m \u001b[0mself\u001b[0m\u001b[1;33m.\u001b[0m\u001b[0mfc\u001b[0m\u001b[1;33m:\u001b[0m\u001b[1;33m\u001b[0m\u001b[1;33m\u001b[0m\u001b[0m\n",
      "\u001b[1;32m~\\AppData\\Local\\Programs\\Python\\Python39\\lib\\site-packages\\torch\\nn\\modules\\module.py\u001b[0m in \u001b[0;36m_call_impl\u001b[1;34m(self, *input, **kwargs)\u001b[0m\n\u001b[0;32m   1100\u001b[0m         if not (self._backward_hooks or self._forward_hooks or self._forward_pre_hooks or _global_backward_hooks\n\u001b[0;32m   1101\u001b[0m                 or _global_forward_hooks or _global_forward_pre_hooks):\n\u001b[1;32m-> 1102\u001b[1;33m             \u001b[1;32mreturn\u001b[0m \u001b[0mforward_call\u001b[0m\u001b[1;33m(\u001b[0m\u001b[1;33m*\u001b[0m\u001b[0minput\u001b[0m\u001b[1;33m,\u001b[0m \u001b[1;33m**\u001b[0m\u001b[0mkwargs\u001b[0m\u001b[1;33m)\u001b[0m\u001b[1;33m\u001b[0m\u001b[1;33m\u001b[0m\u001b[0m\n\u001b[0m\u001b[0;32m   1103\u001b[0m         \u001b[1;31m# Do not call functions when jit is used\u001b[0m\u001b[1;33m\u001b[0m\u001b[1;33m\u001b[0m\u001b[0m\n\u001b[0;32m   1104\u001b[0m         \u001b[0mfull_backward_hooks\u001b[0m\u001b[1;33m,\u001b[0m \u001b[0mnon_full_backward_hooks\u001b[0m \u001b[1;33m=\u001b[0m \u001b[1;33m[\u001b[0m\u001b[1;33m]\u001b[0m\u001b[1;33m,\u001b[0m \u001b[1;33m[\u001b[0m\u001b[1;33m]\u001b[0m\u001b[1;33m\u001b[0m\u001b[1;33m\u001b[0m\u001b[0m\n",
      "\u001b[1;32m~\\AppData\\Local\\Programs\\Python\\Python39\\lib\\site-packages\\torch\\nn\\modules\\linear.py\u001b[0m in \u001b[0;36mforward\u001b[1;34m(self, input)\u001b[0m\n\u001b[0;32m    101\u001b[0m \u001b[1;33m\u001b[0m\u001b[0m\n\u001b[0;32m    102\u001b[0m     \u001b[1;32mdef\u001b[0m \u001b[0mforward\u001b[0m\u001b[1;33m(\u001b[0m\u001b[0mself\u001b[0m\u001b[1;33m,\u001b[0m \u001b[0minput\u001b[0m\u001b[1;33m:\u001b[0m \u001b[0mTensor\u001b[0m\u001b[1;33m)\u001b[0m \u001b[1;33m->\u001b[0m \u001b[0mTensor\u001b[0m\u001b[1;33m:\u001b[0m\u001b[1;33m\u001b[0m\u001b[1;33m\u001b[0m\u001b[0m\n\u001b[1;32m--> 103\u001b[1;33m         \u001b[1;32mreturn\u001b[0m \u001b[0mF\u001b[0m\u001b[1;33m.\u001b[0m\u001b[0mlinear\u001b[0m\u001b[1;33m(\u001b[0m\u001b[0minput\u001b[0m\u001b[1;33m,\u001b[0m \u001b[0mself\u001b[0m\u001b[1;33m.\u001b[0m\u001b[0mweight\u001b[0m\u001b[1;33m,\u001b[0m \u001b[0mself\u001b[0m\u001b[1;33m.\u001b[0m\u001b[0mbias\u001b[0m\u001b[1;33m)\u001b[0m\u001b[1;33m\u001b[0m\u001b[1;33m\u001b[0m\u001b[0m\n\u001b[0m\u001b[0;32m    104\u001b[0m \u001b[1;33m\u001b[0m\u001b[0m\n\u001b[0;32m    105\u001b[0m     \u001b[1;32mdef\u001b[0m \u001b[0mextra_repr\u001b[0m\u001b[1;33m(\u001b[0m\u001b[0mself\u001b[0m\u001b[1;33m)\u001b[0m \u001b[1;33m->\u001b[0m \u001b[0mstr\u001b[0m\u001b[1;33m:\u001b[0m\u001b[1;33m\u001b[0m\u001b[1;33m\u001b[0m\u001b[0m\n",
      "\u001b[1;32m~\\AppData\\Local\\Programs\\Python\\Python39\\lib\\site-packages\\torch\\nn\\functional.py\u001b[0m in \u001b[0;36mlinear\u001b[1;34m(input, weight, bias)\u001b[0m\n\u001b[0;32m   1846\u001b[0m     \u001b[1;32mif\u001b[0m \u001b[0mhas_torch_function_variadic\u001b[0m\u001b[1;33m(\u001b[0m\u001b[0minput\u001b[0m\u001b[1;33m,\u001b[0m \u001b[0mweight\u001b[0m\u001b[1;33m,\u001b[0m \u001b[0mbias\u001b[0m\u001b[1;33m)\u001b[0m\u001b[1;33m:\u001b[0m\u001b[1;33m\u001b[0m\u001b[1;33m\u001b[0m\u001b[0m\n\u001b[0;32m   1847\u001b[0m         \u001b[1;32mreturn\u001b[0m \u001b[0mhandle_torch_function\u001b[0m\u001b[1;33m(\u001b[0m\u001b[0mlinear\u001b[0m\u001b[1;33m,\u001b[0m \u001b[1;33m(\u001b[0m\u001b[0minput\u001b[0m\u001b[1;33m,\u001b[0m \u001b[0mweight\u001b[0m\u001b[1;33m,\u001b[0m \u001b[0mbias\u001b[0m\u001b[1;33m)\u001b[0m\u001b[1;33m,\u001b[0m \u001b[0minput\u001b[0m\u001b[1;33m,\u001b[0m \u001b[0mweight\u001b[0m\u001b[1;33m,\u001b[0m \u001b[0mbias\u001b[0m\u001b[1;33m=\u001b[0m\u001b[0mbias\u001b[0m\u001b[1;33m)\u001b[0m\u001b[1;33m\u001b[0m\u001b[1;33m\u001b[0m\u001b[0m\n\u001b[1;32m-> 1848\u001b[1;33m     \u001b[1;32mreturn\u001b[0m \u001b[0mtorch\u001b[0m\u001b[1;33m.\u001b[0m\u001b[0m_C\u001b[0m\u001b[1;33m.\u001b[0m\u001b[0m_nn\u001b[0m\u001b[1;33m.\u001b[0m\u001b[0mlinear\u001b[0m\u001b[1;33m(\u001b[0m\u001b[0minput\u001b[0m\u001b[1;33m,\u001b[0m \u001b[0mweight\u001b[0m\u001b[1;33m,\u001b[0m \u001b[0mbias\u001b[0m\u001b[1;33m)\u001b[0m\u001b[1;33m\u001b[0m\u001b[1;33m\u001b[0m\u001b[0m\n\u001b[0m\u001b[0;32m   1849\u001b[0m \u001b[1;33m\u001b[0m\u001b[0m\n\u001b[0;32m   1850\u001b[0m \u001b[1;33m\u001b[0m\u001b[0m\n",
      "\u001b[1;31mRuntimeError\u001b[0m: CUDA out of memory. Tried to allocate 32.00 MiB (GPU 0; 4.00 GiB total capacity; 1.69 GiB already allocated; 0 bytes free; 1.74 GiB reserved in total by PyTorch) If reserved memory is >> allocated memory try setting max_split_size_mb to avoid fragmentation.  See documentation for Memory Management and PYTORCH_CUDA_ALLOC_CONF"
     ]
    }
   ],
   "source": [
    "loss_history = []\n",
    "train__multiframe_model(feather_contextualized_model, optimizer, 60, gradient_loss, loss_history, outputs_dir)"
   ]
  },
  {
   "cell_type": "code",
   "execution_count": null,
   "id": "1c6dbd20-436f-4cff-8b8b-0f0a2c6ef0d0",
   "metadata": {},
   "outputs": [],
   "source": []
  },
  {
   "cell_type": "code",
   "execution_count": 10,
   "id": "d0439102-91ee-4e9e-bf35-f6da0598187e",
   "metadata": {},
   "outputs": [],
   "source": [
    "def train_model(model, optimizer, num_epochs, criterion, loss_history, outputs_dir):\n",
    "    best_weights = copy.deepcopy(model.state_dict())\n",
    "    best_epoch = 0\n",
    "    best_psnr = 0.0\n",
    "    for epoch in range(0, num_epochs):\n",
    "        model.train()\n",
    "\n",
    "        with tqdm(total=(len(train_dataset) - len(train_dataset) % batch_size)) as t:\n",
    "            t.set_description('epoch: {}/{}'.format(epoch, num_epochs - 1))\n",
    "            cur_loss = 0.0\n",
    "            for lr, hr in train_dataloader:\n",
    "                optimizer.zero_grad()\n",
    "                lr = lr.to(device)# /255.0\n",
    "                hr = hr.to(device)# /255.0\n",
    "\n",
    "                hr_pred = model(lr)\n",
    "                if isinstance(hr_pred, list):\n",
    "                    loss = 0.0\n",
    "                    for otp in hr_pred:\n",
    "                        loss += criterion(otp, hr)# * 255.0\n",
    "                else:\n",
    "                    loss = criterion(hr_pred, hr)#* 255.0\n",
    "                cur_loss += loss.item()  / (len(train_dataset) // batch_size)\n",
    "\n",
    "                loss.backward()\n",
    "                nn.utils.clip_grad_norm_(model.parameters(), 1000.0)\n",
    "                optimizer.step()\n",
    "\n",
    "                t.set_postfix(loss='{:.6f}'.format(cur_loss))\n",
    "                t.update(len(lr))\n",
    "\n",
    "            torch.save(model.state_dict(), os.path.join(outputs_dir, 'FeatherNET_base_epoch_{}.pth'.format(epoch)))\n",
    "            model.eval()\n",
    "            epoch_result = eval_model_single_frame(model, valid_dataloader,  device=device)\n",
    "            t.set_postfix({'train loss ': '{:.8f}'.format(cur_loss), 'evalPSNR' : epoch_result['psnr'], 'MAE' : epoch_result['mae']*255.0, 'MSE' : epoch_result['mse']*255.0*255.0, } )\n",
    "            loss_history.append(epoch_result['psnr'])\n",
    "\n",
    "            if epoch_result['psnr'] > best_psnr:\n",
    "                best_epoch = epoch\n",
    "                best_psnr = epoch_result['psnr']\n",
    "                best_weights = copy.deepcopy(model.state_dict())\n",
    "\n",
    "    print('best epoch: {}, psnr: {:.2f}'.format(best_epoch, best_psnr))\n",
    "    torch.save(best_weights, os.path.join(outputs_dir, 'FeatherNET_base_best.pth'))"
   ]
  },
  {
   "cell_type": "code",
   "execution_count": 11,
   "id": "6597c01c-5aff-4941-a8c0-55c6f5785979",
   "metadata": {},
   "outputs": [
    {
     "name": "stderr",
     "output_type": "stream",
     "text": [
      "epoch: 0/49: 100%|██████| 8448/8448 [00:40<00:00, 209.38it/s, train loss =0.39083513, evalPSNR=22.2, MAE=15.6, MSE=494]\n",
      "epoch: 1/49: 100%|████████| 8448/8448 [00:35<00:00, 234.95it/s, train loss =0.10761253, evalPSNR=23.3, MAE=14, MSE=402]\n",
      "epoch: 2/49: 100%|████████| 8448/8448 [00:36<00:00, 234.02it/s, train loss =0.09478465, evalPSNR=25, MAE=11.7, MSE=281]\n",
      "epoch: 3/49: 100%|██████| 8448/8448 [00:36<00:00, 233.46it/s, train loss =0.08641999, evalPSNR=25.4, MAE=11.2, MSE=262]\n",
      "epoch: 4/49: 100%|██████| 8448/8448 [00:36<00:00, 233.70it/s, train loss =0.08483205, evalPSNR=25.5, MAE=11.1, MSE=256]\n",
      "epoch: 5/49: 100%|██████| 8448/8448 [00:36<00:00, 230.16it/s, train loss =0.08395648, evalPSNR=25.4, MAE=11.3, MSE=262]\n",
      "epoch: 6/49: 100%|██████| 8448/8448 [00:36<00:00, 231.89it/s, train loss =0.08394328, evalPSNR=24.6, MAE=12.7, MSE=304]\n",
      "epoch: 7/49: 100%|██████| 8448/8448 [00:37<00:00, 227.70it/s, train loss =0.08410959, evalPSNR=25.3, MAE=11.5, MSE=266]\n",
      "epoch: 8/49: 100%|██████| 8448/8448 [00:36<00:00, 229.46it/s, train loss =0.08365696, evalPSNR=25.4, MAE=11.3, MSE=261]\n",
      "epoch: 9/49: 100%|██████| 8448/8448 [00:36<00:00, 231.51it/s, train loss =0.08361117, evalPSNR=25.2, MAE=11.8, MSE=274]\n",
      "epoch: 10/49: 100%|█████| 8448/8448 [00:36<00:00, 229.45it/s, train loss =0.08315743, evalPSNR=25.7, MAE=10.9, MSE=251]\n",
      "epoch: 11/49: 100%|█████| 8448/8448 [00:37<00:00, 226.77it/s, train loss =0.08328624, evalPSNR=25.6, MAE=11.1, MSE=255]\n",
      "epoch: 12/49: 100%|███████| 8448/8448 [00:37<00:00, 226.24it/s, train loss =0.08306656, evalPSNR=25.7, MAE=11, MSE=250]\n",
      "epoch: 13/49: 100%|█████| 8448/8448 [00:37<00:00, 226.81it/s, train loss =0.08345242, evalPSNR=25.4, MAE=11.4, MSE=263]\n",
      "epoch: 14/49: 100%|█████| 8448/8448 [00:36<00:00, 229.53it/s, train loss =0.08283450, evalPSNR=25.2, MAE=11.7, MSE=271]\n",
      "epoch: 15/49: 100%|███████| 8448/8448 [00:36<00:00, 230.57it/s, train loss =0.08332266, evalPSNR=25.6, MAE=11, MSE=252]\n",
      "epoch: 16/49: 100%|█████| 8448/8448 [00:37<00:00, 227.11it/s, train loss =0.08336837, evalPSNR=25.7, MAE=10.9, MSE=248]\n",
      "epoch: 17/49: 100%|█████| 8448/8448 [00:36<00:00, 228.94it/s, train loss =0.08275858, evalPSNR=25.3, MAE=11.5, MSE=264]\n",
      "epoch: 18/49: 100%|█████| 8448/8448 [00:36<00:00, 228.96it/s, train loss =0.08276399, evalPSNR=25.7, MAE=10.9, MSE=248]\n",
      "epoch: 19/49: 100%|█████| 8448/8448 [00:36<00:00, 230.13it/s, train loss =0.08270935, evalPSNR=25.7, MAE=10.9, MSE=247]\n",
      "epoch: 20/49: 100%|███████| 8448/8448 [00:39<00:00, 215.65it/s, train loss =0.08235491, evalPSNR=25.6, MAE=11, MSE=251]\n",
      "epoch: 21/49: 100%|█████| 8448/8448 [00:35<00:00, 234.79it/s, train loss =0.08215590, evalPSNR=25.8, MAE=10.8, MSE=246]\n",
      "epoch: 22/49: 100%|█████| 8448/8448 [00:35<00:00, 237.39it/s, train loss =0.08251913, evalPSNR=25.6, MAE=11.1, MSE=252]\n",
      "epoch: 23/49: 100%|█████| 8448/8448 [00:35<00:00, 238.91it/s, train loss =0.08250905, evalPSNR=25.5, MAE=11.3, MSE=258]\n",
      "epoch: 24/49: 100%|█████| 8448/8448 [00:35<00:00, 237.56it/s, train loss =0.08259432, evalPSNR=25.5, MAE=11.3, MSE=259]\n",
      "epoch: 25/49: 100%|█████| 8448/8448 [00:36<00:00, 229.80it/s, train loss =0.08185618, evalPSNR=25.4, MAE=11.5, MSE=263]\n",
      "epoch: 26/49: 100%|█████| 8448/8448 [00:37<00:00, 223.98it/s, train loss =0.08200748, evalPSNR=25.7, MAE=10.9, MSE=247]\n",
      "epoch: 27/49: 100%|█████| 8448/8448 [00:36<00:00, 229.79it/s, train loss =0.08223188, evalPSNR=25.6, MAE=11.1, MSE=253]\n",
      "epoch: 28/49: 100%|█████| 8448/8448 [00:36<00:00, 229.73it/s, train loss =0.08214948, evalPSNR=25.8, MAE=10.8, MSE=244]\n",
      "epoch: 29/49: 100%|███████| 8448/8448 [00:37<00:00, 223.21it/s, train loss =0.08206872, evalPSNR=25.7, MAE=11, MSE=249]\n",
      "epoch: 30/49: 100%|███████| 8448/8448 [00:36<00:00, 231.23it/s, train loss =0.08161210, evalPSNR=25.7, MAE=11, MSE=249]\n",
      "epoch: 31/49: 100%|█████| 8448/8448 [00:38<00:00, 219.63it/s, train loss =0.08234016, evalPSNR=25.1, MAE=11.8, MSE=273]\n",
      "epoch: 32/49: 100%|█████| 8448/8448 [00:35<00:00, 237.12it/s, train loss =0.08166595, evalPSNR=25.7, MAE=10.9, MSE=248]\n",
      "epoch: 33/49: 100%|█████| 8448/8448 [00:35<00:00, 235.06it/s, train loss =0.08210153, evalPSNR=25.8, MAE=10.8, MSE=245]\n",
      "epoch: 34/49: 100%|█████| 8448/8448 [00:37<00:00, 223.64it/s, train loss =0.08182811, evalPSNR=25.8, MAE=10.8, MSE=243]\n",
      "epoch: 35/49: 100%|███████| 8448/8448 [00:36<00:00, 233.20it/s, train loss =0.08217278, evalPSNR=25.7, MAE=11, MSE=248]\n",
      "epoch: 36/49: 100%|█████| 8448/8448 [00:36<00:00, 233.71it/s, train loss =0.08173571, evalPSNR=25.8, MAE=10.9, MSE=246]\n",
      "epoch: 37/49: 100%|█████| 8448/8448 [00:36<00:00, 234.08it/s, train loss =0.08194269, evalPSNR=25.8, MAE=10.8, MSE=245]\n",
      "epoch: 38/49: 100%|█████| 8448/8448 [00:37<00:00, 225.42it/s, train loss =0.08188094, evalPSNR=25.2, MAE=11.7, MSE=268]\n",
      "epoch: 39/49: 100%|█████| 8448/8448 [00:37<00:00, 222.67it/s, train loss =0.08139433, evalPSNR=25.7, MAE=10.9, MSE=247]\n",
      "epoch: 40/49: 100%|█████| 8448/8448 [00:37<00:00, 225.20it/s, train loss =0.08197530, evalPSNR=25.8, MAE=10.8, MSE=244]\n",
      "epoch: 41/49: 100%|█████| 8448/8448 [00:38<00:00, 218.94it/s, train loss =0.08179903, evalPSNR=25.9, MAE=10.8, MSE=243]\n",
      "epoch: 42/49: 100%|█████| 8448/8448 [00:35<00:00, 236.84it/s, train loss =0.08162130, evalPSNR=25.6, MAE=11.2, MSE=254]\n",
      "epoch: 43/49: 100%|█████| 8448/8448 [00:35<00:00, 237.16it/s, train loss =0.08180829, evalPSNR=25.8, MAE=10.8, MSE=244]\n",
      "epoch: 44/49: 100%|█████| 8448/8448 [00:35<00:00, 236.46it/s, train loss =0.08185324, evalPSNR=25.5, MAE=11.3, MSE=257]\n",
      "epoch: 45/49: 100%|█████| 8448/8448 [00:35<00:00, 237.98it/s, train loss =0.08168619, evalPSNR=25.6, MAE=11.2, MSE=254]\n",
      "epoch: 46/49: 100%|█████| 8448/8448 [00:35<00:00, 240.46it/s, train loss =0.08151472, evalPSNR=25.6, MAE=11.1, MSE=251]\n",
      "epoch: 47/49: 100%|█████| 8448/8448 [00:35<00:00, 240.71it/s, train loss =0.08153059, evalPSNR=25.8, MAE=10.8, MSE=243]\n",
      "epoch: 48/49: 100%|█████| 8448/8448 [00:35<00:00, 238.95it/s, train loss =0.08149709, evalPSNR=25.4, MAE=11.5, MSE=263]\n",
      "epoch: 49/49: 100%|█████| 8448/8448 [00:35<00:00, 236.42it/s, train loss =0.08147801, evalPSNR=25.8, MAE=10.8, MSE=244]"
     ]
    },
    {
     "name": "stdout",
     "output_type": "stream",
     "text": [
      "best epoch: 41, psnr: 25.86\n"
     ]
    },
    {
     "name": "stderr",
     "output_type": "stream",
     "text": [
      "\n"
     ]
    }
   ],
   "source": [
    "loss_history = []\n",
    "train_model(feather_contextualized_model, optimizer, 50, gradient_loss, loss_history, outputs_dir)"
   ]
  },
  {
   "cell_type": "code",
   "execution_count": 14,
   "id": "5bd6b52f-e49f-4d27-9a20-0cbe460d2b97",
   "metadata": {},
   "outputs": [
    {
     "name": "stdout",
     "output_type": "stream",
     "text": [
      "both\n",
      "Evaluation completed. Metrics: \n",
      "mse :  0.003775269291594441  +-  0.0051201621453953105\n",
      "mae :  0.04296039775181271  +-  0.023917733592893946\n",
      "psnr :  25.789027479477227  +-  3.5114299185537385\n"
     ]
    }
   ],
   "source": [
    "print('both')\n",
    "\n",
    "model = FeatherNET_contextualized(num_channels=1).to(device)\n",
    "model.load_state_dict(torch.load('Models/FeatherNET/both_(phase3)/FeatherNET_base_best.pth'))\n",
    "eval_model_single_frame(model, test_dataloader, device=device, verbose=True)"
   ]
  },
  {
   "cell_type": "code",
   "execution_count": 15,
   "id": "31ed79a9-2df9-410e-ab90-ae9ddfe5d119",
   "metadata": {},
   "outputs": [
    {
     "name": "stderr",
     "output_type": "stream",
     "text": [
      "C:\\Users\\9D20~1\\AppData\\Local\\Temp/ipykernel_12580/3873723301.py:4: UserWarning: Creating a tensor from a list of numpy.ndarrays is extremely slow. Please consider converting the list to a single numpy.ndarray with numpy.array() before converting to a tensor. (Triggered internally at  ..\\torch\\csrc\\utils\\tensor_new.cpp:201.)\n",
      "  aa = torch.tensor([test_dataset[1][0]])\n"
     ]
    },
    {
     "data": {
      "text/plain": [
       "<matplotlib.image.AxesImage at 0x1cc55ef6340>"
      ]
     },
     "execution_count": 15,
     "metadata": {},
     "output_type": "execute_result"
    },
    {
     "data": {
      "image/png": "[encoded data removed]",
      "text/plain": [
       "<Figure size 432x288 with 1 Axes>"
      ]
     },
     "metadata": {
      "needs_background": "light"
     },
     "output_type": "display_data"
    }
   ],
   "source": [
    "from PIL import Image\n",
    "import matplotlib.pyplot as plt \n",
    "\n",
    "aa = torch.tensor([test_dataset[1][0]])\n",
    "img_outp = model(aa.to(device))[0][0][0].cpu().detach().numpy()\n",
    "plt.imsave('outputs/both_loss.png', img_outp, format='png')\n",
    "plt.imshow(img_outp)"
   ]
  },
  {
   "cell_type": "code",
   "execution_count": null,
   "id": "81885816-b846-4c59-9f3e-795b9f25ab0d",
   "metadata": {},
   "outputs": [],
   "source": [
    "eval_model_single_frame(model, test_dataloader, device=device, verbose=True)"
   ]
  },
  {
   "cell_type": "code",
   "execution_count": 18,
   "id": "7c217930-23f7-407f-b472-57da71b7feb9",
   "metadata": {},
   "outputs": [
    {
     "name": "stdout",
     "output_type": "stream",
     "text": [
      "Evaluation completed. Metrics: \n",
      "mse :  0.003762063916610714  +-  0.005098562865507072\n",
      "mae :  0.04281270373667212  +-  0.023951298806748237\n",
      "psnr :  25.81999930087477  +-  3.547563423985287\n"
     ]
    }
   ],
   "source": [
    "eval_model_single_frame(model, test_dataloader, device=device, verbose=True)"
   ]
  },
  {
   "cell_type": "code",
   "execution_count": 19,
   "id": "e4330423-47f5-4c87-8817-d7cf86ffaef4",
   "metadata": {},
   "outputs": [],
   "source": [
    "np.save('Models/FeatherNET_final_evalPSNR.npy', np.array(loss_history))"
   ]
  },
  {
   "cell_type": "code",
   "execution_count": 37,
   "id": "9c6e078d-bc42-44a4-81fb-4d17006b384c",
   "metadata": {},
   "outputs": [
    {
     "name": "stderr",
     "output_type": "stream",
     "text": [
      "epoch: 0/49: 100%|██████| 8448/8448 [00:24<00:00, 347.04it/s, train loss =0.07900073, evalPSNR=25.9, MAE=10.7, MSE=238]\n",
      "epoch: 1/49: 100%|██████| 8448/8448 [00:27<00:00, 301.75it/s, train loss =0.07883321, evalPSNR=25.9, MAE=10.7, MSE=239]\n",
      "epoch: 2/49: 100%|██████| 8448/8448 [00:26<00:00, 322.17it/s, train loss =0.07889090, evalPSNR=25.9, MAE=10.7, MSE=239]\n",
      "epoch: 3/49: 100%|██████| 8448/8448 [00:24<00:00, 345.75it/s, train loss =0.07882413, evalPSNR=25.9, MAE=10.7, MSE=240]\n",
      "epoch: 4/49: 100%|██████| 8448/8448 [00:26<00:00, 319.77it/s, train loss =0.07879710, evalPSNR=25.9, MAE=10.7, MSE=238]\n",
      "epoch: 5/49: 100%|██████| 8448/8448 [00:25<00:00, 325.51it/s, train loss =0.07877682, evalPSNR=25.8, MAE=10.8, MSE=244]\n",
      "epoch: 6/49: 100%|██████| 8448/8448 [00:24<00:00, 340.73it/s, train loss =0.07879706, evalPSNR=25.9, MAE=10.7, MSE=238]\n",
      "epoch: 7/49: 100%|██████| 8448/8448 [00:25<00:00, 330.12it/s, train loss =0.07868642, evalPSNR=25.9, MAE=10.7, MSE=240]\n",
      "epoch: 8/49: 100%|██████| 8448/8448 [00:25<00:00, 329.61it/s, train loss =0.07874491, evalPSNR=25.9, MAE=10.7, MSE=240]\n",
      "epoch: 9/49: 100%|██████| 8448/8448 [00:25<00:00, 329.33it/s, train loss =0.07875222, evalPSNR=25.9, MAE=10.7, MSE=237]\n",
      "epoch: 10/49: 100%|█████| 8448/8448 [00:26<00:00, 324.30it/s, train loss =0.07868590, evalPSNR=25.9, MAE=10.7, MSE=238]\n",
      "epoch: 11/49: 100%|█████| 8448/8448 [00:27<00:00, 310.36it/s, train loss =0.07862429, evalPSNR=25.9, MAE=10.7, MSE=239]\n",
      "epoch: 12/49: 100%|█████| 8448/8448 [00:27<00:00, 303.26it/s, train loss =0.07869496, evalPSNR=25.9, MAE=10.7, MSE=240]\n",
      "epoch: 13/49: 100%|█████| 8448/8448 [00:31<00:00, 269.64it/s, train loss =0.07855393, evalPSNR=25.9, MAE=10.7, MSE=241]\n",
      "epoch: 14/49: 100%|█████| 8448/8448 [00:31<00:00, 267.65it/s, train loss =0.07851688, evalPSNR=25.9, MAE=10.7, MSE=239]\n",
      "epoch: 15/49: 100%|█████| 8448/8448 [00:31<00:00, 266.76it/s, train loss =0.07849848, evalPSNR=25.9, MAE=10.7, MSE=240]\n",
      "epoch: 16/49: 100%|███████| 8448/8448 [00:30<00:00, 280.02it/s, train loss =0.07851158, evalPSNR=25.7, MAE=11, MSE=249]\n",
      "epoch: 17/49: 100%|█████| 8448/8448 [00:27<00:00, 307.00it/s, train loss =0.07850965, evalPSNR=25.8, MAE=10.9, MSE=248]\n",
      "epoch: 18/49: 100%|█████| 8448/8448 [00:27<00:00, 306.66it/s, train loss =0.07844660, evalPSNR=25.9, MAE=10.7, MSE=240]\n",
      "epoch: 19/49: 100%|█████| 8448/8448 [00:27<00:00, 304.88it/s, train loss =0.07842043, evalPSNR=25.9, MAE=10.8, MSE=240]\n",
      "epoch: 20/49: 100%|█████| 8448/8448 [00:27<00:00, 304.88it/s, train loss =0.07846238, evalPSNR=25.9, MAE=10.7, MSE=241]\n",
      "epoch: 21/49: 100%|█████| 8448/8448 [00:27<00:00, 303.54it/s, train loss =0.07831969, evalPSNR=25.9, MAE=10.8, MSE=244]\n",
      "epoch: 22/49: 100%|█████| 8448/8448 [00:26<00:00, 321.94it/s, train loss =0.07841759, evalPSNR=25.9, MAE=10.7, MSE=241]\n",
      "epoch: 23/49: 100%|█████| 8448/8448 [00:24<00:00, 344.49it/s, train loss =0.07833465, evalPSNR=25.9, MAE=10.7, MSE=240]\n",
      "epoch: 24/49: 100%|█████| 8448/8448 [00:27<00:00, 311.43it/s, train loss =0.07825900, evalPSNR=25.9, MAE=10.7, MSE=241]\n",
      "epoch: 25/49: 100%|█████| 8448/8448 [00:27<00:00, 304.00it/s, train loss =0.07830706, evalPSNR=25.9, MAE=10.7, MSE=240]\n",
      "epoch: 26/49: 100%|█████| 8448/8448 [00:27<00:00, 305.13it/s, train loss =0.07827555, evalPSNR=25.9, MAE=10.7, MSE=241]\n",
      "epoch: 27/49: 100%|█████| 8448/8448 [00:27<00:00, 302.33it/s, train loss =0.07821591, evalPSNR=25.9, MAE=10.7, MSE=241]\n",
      "epoch: 28/49: 100%|█████| 8448/8448 [00:28<00:00, 300.97it/s, train loss =0.07819072, evalPSNR=25.9, MAE=10.7, MSE=242]\n",
      "epoch: 29/49: 100%|█████| 8448/8448 [00:27<00:00, 303.98it/s, train loss =0.07818609, evalPSNR=25.9, MAE=10.7, MSE=241]\n",
      "epoch: 30/49: 100%|█████| 8448/8448 [00:27<00:00, 304.83it/s, train loss =0.07812658, evalPSNR=25.9, MAE=10.8, MSE=242]\n",
      "epoch: 31/49: 100%|█████| 8448/8448 [00:27<00:00, 305.19it/s, train loss =0.07812342, evalPSNR=25.9, MAE=10.7, MSE=240]\n",
      "epoch: 32/49: 100%|█████| 8448/8448 [00:27<00:00, 302.13it/s, train loss =0.07806780, evalPSNR=25.9, MAE=10.7, MSE=241]\n",
      "epoch: 33/49: 100%|█████| 8448/8448 [00:28<00:00, 299.82it/s, train loss =0.07802859, evalPSNR=25.9, MAE=10.8, MSE=244]\n",
      "epoch: 34/49: 100%|█████| 8448/8448 [00:27<00:00, 305.70it/s, train loss =0.07800702, evalPSNR=25.9, MAE=10.7, MSE=242]\n",
      "epoch: 35/49: 100%|█████| 8448/8448 [00:27<00:00, 308.74it/s, train loss =0.07801163, evalPSNR=25.9, MAE=10.7, MSE=243]\n",
      "epoch: 36/49: 100%|█████| 8448/8448 [00:27<00:00, 304.06it/s, train loss =0.07796165, evalPSNR=25.9, MAE=10.7, MSE=243]\n",
      "epoch: 37/49: 100%|█████| 8448/8448 [00:27<00:00, 305.24it/s, train loss =0.07807600, evalPSNR=25.8, MAE=10.8, MSE=243]\n",
      "epoch: 38/49: 100%|█████| 8448/8448 [00:27<00:00, 305.30it/s, train loss =0.07796817, evalPSNR=25.9, MAE=10.7, MSE=242]\n",
      "epoch: 39/49: 100%|█████| 8448/8448 [00:27<00:00, 303.82it/s, train loss =0.07791719, evalPSNR=25.9, MAE=10.7, MSE=243]\n",
      "epoch: 40/49: 100%|█████| 8448/8448 [00:27<00:00, 303.16it/s, train loss =0.07785903, evalPSNR=25.9, MAE=10.8, MSE=243]\n",
      "epoch: 41/49: 100%|█████| 8448/8448 [00:27<00:00, 304.80it/s, train loss =0.07790227, evalPSNR=25.8, MAE=10.8, MSE=246]\n",
      "epoch: 42/49: 100%|█████| 8448/8448 [00:28<00:00, 295.15it/s, train loss =0.07787460, evalPSNR=25.8, MAE=10.8, MSE=245]\n",
      "epoch: 43/49: 100%|█████| 8448/8448 [00:24<00:00, 339.37it/s, train loss =0.07779742, evalPSNR=25.9, MAE=10.8, MSE=243]\n",
      "epoch: 44/49: 100%|█████| 8448/8448 [00:23<00:00, 352.26it/s, train loss =0.07781523, evalPSNR=25.9, MAE=10.7, MSE=241]\n",
      "epoch: 45/49: 100%|█████| 8448/8448 [00:23<00:00, 352.10it/s, train loss =0.07775378, evalPSNR=25.9, MAE=10.8, MSE=244]\n",
      "epoch: 46/49: 100%|█████| 8448/8448 [00:24<00:00, 350.94it/s, train loss =0.07786002, evalPSNR=25.9, MAE=10.8, MSE=244]\n",
      "epoch: 47/49: 100%|█████| 8448/8448 [00:24<00:00, 350.56it/s, train loss =0.07770012, evalPSNR=25.8, MAE=10.8, MSE=244]\n",
      "epoch: 48/49: 100%|█████| 8448/8448 [00:24<00:00, 351.25it/s, train loss =0.07775392, evalPSNR=25.9, MAE=10.8, MSE=243]\n",
      "epoch: 49/49: 100%|█████| 8448/8448 [00:24<00:00, 350.23it/s, train loss =0.07766434, evalPSNR=25.8, MAE=10.8, MSE=244]"
     ]
    },
    {
     "name": "stdout",
     "output_type": "stream",
     "text": [
      "best epoch: 2, psnr: 25.93\n"
     ]
    },
    {
     "name": "stderr",
     "output_type": "stream",
     "text": [
      "\n"
     ]
    }
   ],
   "source": [
    "feather_contextualized_model = FeatherNET_base().to(device)\n",
    "learning_rate = 1e-3\n",
    "num_epochs = 200\n",
    "criterion = gradient_loss#spectral_loss\n",
    "optimizer = torch.optim.Adam(feather_contextualized_model.parameters(), lr=learning_rate)\n",
    "\n",
    "outputs_dir = 'Models/FeatherNET/specloss_(phase1)'\n",
    "loss_history_2 = []\n",
    "train_model(feather_contextualized_model, optimizer, 50, criterion, loss_history_2, outputs_dir)"
   ]
  },
  {
   "cell_type": "code",
   "execution_count": 39,
   "id": "208fb995-a353-41dd-94bc-000ff5ec85a7",
   "metadata": {},
   "outputs": [],
   "source": [
    "#np.save('Models/FeatherNET+specloss_final_evalPSNR.npy', np.array(loss_history_2))"
   ]
  },
  {
   "cell_type": "code",
   "execution_count": null,
   "id": "6768c3b3-1dfa-4c80-9da3-58830dd22466",
   "metadata": {},
   "outputs": [],
   "source": [
    "#feather_contextualized_model = FeatherNET_base().to(device)\n",
    "for i in range(100):\n",
    "    x = torch.tensor([train_dataset[i][0]]).to(device)\n",
    "    y_pred=feather_contextualized_model(x)\n",
    "    y_true = torch.tensor([train_dataset[i][1]]).to(device)\n",
    "    \n",
    "    l1 = nn.L1Loss()\n",
    "    mse = nn.MSELoss()\n",
    "    \n",
    "    a1 = torch.fft.rfft2(y_pred, norm='forward').abs() ** 2\n",
    "    a2 = torch.fft.rfft2(y_true, norm='forward').abs() ** 2\n",
    "    print(1e-2*mse(a1, a2).item(), '<<>>>', l1(y_pred, y_true).item())"
   ]
  },
  {
   "cell_type": "code",
   "execution_count": 120,
   "id": "3db02981-a991-4e3a-a72f-209b1b03cede",
   "metadata": {},
   "outputs": [],
   "source": [
    "#np.save('Models/FeatherNET+grad_loss_evalPSNR.npy', np.array(loss_history))"
   ]
  },
  {
   "cell_type": "code",
   "execution_count": 18,
   "id": "65b4d480-f806-4362-9f6a-e3b110980b88",
   "metadata": {},
   "outputs": [
    {
     "name": "stdout",
     "output_type": "stream",
     "text": [
      "FeatherNet_contextualized model best results: \n",
      "MSE:   0.002556319240525795\n",
      "MAE:   0.03085265790377889\n",
      "PSNR:  26.91523647494614\n"
     ]
    }
   ],
   "source": [
    "result = eval_model_single_frame(feather_contextualized_model, test_dataloader, device=device)\n",
    "print(\"FeatherNet_contextualized model best results: \")\n",
    "print(\"MSE:  \", result['mse'])\n",
    "print(\"MAE:  \", result['mae'])\n",
    "print(\"PSNR: \", result['psnr'])"
   ]
  },
  {
   "cell_type": "code",
   "execution_count": 177,
   "id": "44e8c3d0-c203-462f-b025-3c89598df540",
   "metadata": {},
   "outputs": [
    {
     "name": "stdout",
     "output_type": "stream",
     "text": [
      "FeatherNet_specloss model best results: \n",
      "MSE:   0.00021845255657439278\n",
      "MAE:   0.010027477570122323\n",
      "PSNR:  29.664134038637762\n"
     ]
    }
   ],
   "source": [
    "result = eval_model_single_frame(feather_base_model, test_dataloader, device=device)\n",
    "print(\"FeatherNet_specloss model best results: \")\n",
    "print(\"MSE:  \", result['mse'])\n",
    "print(\"MAE:  \", result['mae'])\n",
    "print(\"PSNR: \", result['psnr'])"
   ]
  },
  {
   "cell_type": "code",
   "execution_count": 12,
   "id": "6b75be31-685c-46d0-98bf-9b76fad2e76d",
   "metadata": {},
   "outputs": [
    {
     "name": "stdout",
     "output_type": "stream",
     "text": [
      "FeatherNet_base model best results: \n",
      "MSE:   0.00021225229570580716\n",
      "MAE:   0.009835903431765495\n",
      "PSNR:  29.83789853060549\n"
     ]
    }
   ],
   "source": [
    "result = eval_model_single_frame(feather_base_model, test_dataloader, device=device)\n",
    "print(\"FeatherNet_base model best results: \")\n",
    "print(\"MSE:  \", result['mse'])\n",
    "print(\"MAE:  \", result['mae'])\n",
    "print(\"PSNR: \", result['psnr'])"
   ]
  },
  {
   "cell_type": "code",
   "execution_count": null,
   "id": "4f16deca-2d2f-4b84-9fae-e8971214188c",
   "metadata": {},
   "outputs": [],
   "source": []
  }
 ],
 "metadata": {
  "kernelspec": {
   "display_name": "Python 3 (ipykernel)",
   "language": "python",
   "name": "python3"
  },
  "language_info": {
   "codemirror_mode": {
    "name": "ipython",
    "version": 3
   },
   "file_extension": ".py",
   "mimetype": "text/x-python",
   "name": "python",
   "nbconvert_exporter": "python",
   "pygments_lexer": "ipython3",
   "version": "3.9.7"
  }
 },
 "nbformat": 4,
 "nbformat_minor": 5
}
